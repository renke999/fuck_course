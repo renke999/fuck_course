{
 "cells": [
  {
   "cell_type": "code",
   "execution_count": 1,
   "metadata": {},
   "outputs": [],
   "source": [
    "import re\n",
    "import json\n",
    "import time\n",
    "import hashlib\n",
    "import requests\n",
    "import warnings\n",
    "import pandas as pd\n",
    "from PIL import Image\n",
    "from io import BytesIO\n",
    "from IPython.display import display\n",
    "warnings.filterwarnings(\"ignore\")"
   ]
  },
  {
   "cell_type": "code",
   "execution_count": 2,
   "metadata": {},
   "outputs": [],
   "source": [
    "class VpnLogin(object):\n",
    "    def __init__(self, vpn_name='vpns_username', vpn_passwd='vpns_passwd', uims_name='uims_username', uims_passwd='uims_passwd'):\n",
    "        self.vpn_name = vpn_name    # vpns的用户名\n",
    "        self.vpn_passwd = vpn_passwd    # vpns的密码\n",
    "        self.uims_name = uims_name    # uims的用户名\n",
    "        self.uims_passwd = uims_passwd    # uims的密码\n",
    "        self.pattern1 = re.compile(r'用户名密码错误')   # 判断是否登vpns成功的正则表达式\n",
    "        self.pattern2 = re.compile(r'<span class=\"error_message\" id=\"error_message\">(.*)</span>')   # 判断是否登uims成功的正则表达式\n",
    "        self._init_session()\n",
    "        \n",
    "    def _init_user_vpns(self):\n",
    "        print('请输入vpns的用户名：', end='')\n",
    "        self.vpn_name = input()\n",
    "        print('请输入vpns的密码：', end='')\n",
    "        self.vpn_passwd = input()\n",
    "        \n",
    "    def _init_user_uims(self):\n",
    "        print('请输入uims的用户名：', end='')\n",
    "        self.uims_name = input()\n",
    "        print('请输入uims的密码：', end='')\n",
    "        self.uims_passwd = input()\n",
    "        \n",
    "    def _init_session(self):\n",
    "        session = requests.session()\n",
    "        session.headers = {\n",
    "            'User-Agent': 'Mozilla/5.0 (Windows NT 10.0; Win64; x64) AppleWebKit/537.36 (KHTML, like Gecko) Chrome/86.0.4240.183 Safari/537.36',   \n",
    "            'Content-Type': 'application/x-www-form-urlencoded',  # 以form形式提交表单\n",
    "            'Connection': 'keep-alive',\n",
    "        }\n",
    "        self.session = session\n",
    "    \n",
    "    def _get_md5_passwd(self):\n",
    "        # 通过分析js可得\n",
    "        b_password = 'UIMS' + self.uims_name + self.uims_passwd\n",
    "        md5_password = hashlib.md5(b_password.encode('UTF-8')).hexdigest()\n",
    "        return md5_password\n",
    "    \n",
    "    def _login_vpns(self):\n",
    "        # 获取wengine_vpn_ticket\n",
    "        url1 = 'https://vpns.jlu.edu.cn/'\n",
    "        self.session.post(url1, verify=False)\n",
    "        # 登陆vpns.jlu.edu.cn\n",
    "        url_2 = 'https://vpns.jlu.edu.cn/do-login'    \n",
    "        url2_data = 'auth_type=local&username=' + self.vpn_name + '&sms_code=&password=' + self.vpn_passwd\n",
    "        verify_result = self.session.post(url_2, data=url2_data, verify=False)\n",
    "        verify_res = re.findall(self.pattern1, verify_result.content.decode())\n",
    "        return verify_res\n",
    "    \n",
    "    def _get_captcha(self):\n",
    "        captcha_html = 'https://vpns.jlu.edu.cn/https/77726476706e69737468656265737421e5fe4c8f693a6445300d8db9d6562d/ntms/open/get-captcha-image.do?vpn-1&s=1'\n",
    "        captcha_img = self.session.get(captcha_html, verify = False)\n",
    "        # 保存验证码到本地并打开\n",
    "        with open('./captcha.jpg', 'wb+') as f:\n",
    "            f.write(captcha_img.content)\n",
    "            f.close()\n",
    "        image = Image.open('./captcha.jpg')    # read image\n",
    "        display(image)\n",
    "        print('请输入验证码：', end='')\n",
    "        vcode = input()\n",
    "        return vcode\n",
    "    \n",
    "    def _login_uims(self):\n",
    "        verify_html = 'https://vpns.jlu.edu.cn/https/77726476706e69737468656265737421e5fe4c8f693a6445300d8db9d6562d/ntms/j_spring_security_check'\n",
    "        verify_dict = {  \n",
    "            'username': self.uims_name,\n",
    "            'password': self._get_md5_passwd(), \n",
    "            'mousePath': '',\n",
    "            'vcode': self._get_captcha()\n",
    "        }\n",
    "        verify_result = self.session.post(verify_html, data = verify_dict, allow_redirects=True, verify=False)\n",
    "        verify_res = re.findall(self.pattern2, verify_result.content.decode())\n",
    "        return verify_res\n",
    "    \n",
    "    def login(self):\n",
    "        # 登录vpns\n",
    "        vpns_res = self._login_vpns()\n",
    "        while len(vpns_res):\n",
    "            print('vpns登录失败，原因：' + vpns_res[0])\n",
    "            self._init_user_vpns()    # vpns账号密码输入错误，重新输入\n",
    "            self._init_session()\n",
    "            vpns_res = self._login_vpns()\n",
    "        print('vpns登录成功')\n",
    "        # 登录uims\n",
    "        uims_res = self._login_uims()\n",
    "        while len(uims_res):\n",
    "            print('uims登录失败，原因：' + uims_res[0])\n",
    "            if(uims_res[0] == '登录错误：验证码无效或过期'):\n",
    "                uims_res = self._login_uims()    # 验证码无效或过期，只需要重新输入验证码\n",
    "            else:\n",
    "                self._init_user_uims()    # uims账号密码错误，需要重新输入信息\n",
    "                uims_res = self._login_uims()    \n",
    "        print('uims登录成功')\n",
    "        \n",
    "    \n",
    "    def get_cookies(self):\n",
    "        cookie = ''\n",
    "        for x in self.session.cookies:\n",
    "            cookie += x.name + '=' + x.value + ';'\n",
    "        cookie = cookie[:-1]\n",
    "        return cookie"
   ]
  },
  {
   "cell_type": "code",
   "execution_count": 3,
   "metadata": {},
   "outputs": [],
   "source": [
    "vpn_login = VpnLogin('vpns的用户名', 'vpns的密码', 'uims的用户名', 'uims的密码')"
   ]
  },
  {
   "cell_type": "code",
   "execution_count": 4,
   "metadata": {},
   "outputs": [
    {
     "name": "stdout",
     "output_type": "stream",
     "text": [
      "vpns登录成功\n"
     ]
    },
    {
     "data": {
      "image/png": "[encoded data removed]",
      "text/plain": [
       "<PIL.JpegImagePlugin.JpegImageFile image mode=RGB size=60x24 at 0x1E41E227DD8>"
      ]
     },
     "metadata": {},
     "output_type": "display_data"
    },
    {
     "name": "stdout",
     "output_type": "stream",
     "text": [
      "请输入验证码：9018\n",
      "uims登录成功\n"
     ]
    }
   ],
   "source": [
    "vpn_login.login()"
   ]
  },
  {
   "cell_type": "code",
   "execution_count": 5,
   "metadata": {},
   "outputs": [
    {
     "name": "stdout",
     "output_type": "stream",
     "text": [
      "refresh=1;wengine_vpn_ticket=94ebe2b4fe9d1b94\n"
     ]
    }
   ],
   "source": [
    "cookie = vpn_login.get_cookies()\n",
    "print(cookie)"
   ]
  },
  {
   "cell_type": "code",
   "execution_count": null,
   "metadata": {},
   "outputs": [],
   "source": []
  }
 ],
 "metadata": {
  "kernelspec": {
   "display_name": "Python 3",
   "language": "python",
   "name": "python3"
  },
  "language_info": {
   "codemirror_mode": {
    "name": "ipython",
    "version": 3
   },
   "file_extension": ".py",
   "mimetype": "text/x-python",
   "name": "python",
   "nbconvert_exporter": "python",
   "pygments_lexer": "ipython3",
   "version": "3.7.0"
  },
  "toc": {
   "base_numbering": 1,
   "nav_menu": {},
   "number_sections": true,
   "sideBar": true,
   "skip_h1_title": false,
   "title_cell": "Table of Contents",
   "title_sidebar": "Contents",
   "toc_cell": false,
   "toc_position": {},
   "toc_section_display": true,
   "toc_window_display": false
  },
  "varInspector": {
   "cols": {
    "lenName": 16,
    "lenType": 16,
    "lenVar": 40
   },
   "kernels_config": {
    "python": {
     "delete_cmd_postfix": "",
     "delete_cmd_prefix": "del ",
     "library": "var_list.py",
     "varRefreshCmd": "print(var_dic_list())"
    },
    "r": {
     "delete_cmd_postfix": ") ",
     "delete_cmd_prefix": "rm(",
     "library": "var_list.r",
     "varRefreshCmd": "cat(var_dic_list()) "
    }
   },
   "types_to_exclude": [
    "module",
    "function",
    "builtin_function_or_method",
    "instance",
    "_Feature"
   ],
   "window_display": false
  }
 },
 "nbformat": 4,
 "nbformat_minor": 2
}
